{
  "nbformat": 4,
  "nbformat_minor": 0,
  "metadata": {
    "kernelspec": {
      "display_name": "Python 3",
      "language": "python",
      "name": "python3"
    },
    "language_info": {
      "codemirror_mode": {
        "name": "ipython",
        "version": 3
      },
      "file_extension": ".py",
      "mimetype": "text/x-python",
      "name": "python",
      "nbconvert_exporter": "python",
      "pygments_lexer": "ipython3",
      "version": "3.7.1"
    },
    "toc": {
      "base_numbering": 1,
      "nav_menu": {},
      "number_sections": true,
      "sideBar": true,
      "skip_h1_title": false,
      "title_cell": "Table of Contents",
      "title_sidebar": "Contents",
      "toc_cell": false,
      "toc_position": {},
      "toc_section_display": true,
      "toc_window_display": false
    },
    "varInspector": {
      "cols": {
        "lenName": 16,
        "lenType": 16,
        "lenVar": 40
      },
      "kernels_config": {
        "python": {
          "delete_cmd_postfix": "",
          "delete_cmd_prefix": "del ",
          "library": "var_list.py",
          "varRefreshCmd": "print(var_dic_list())"
        },
        "r": {
          "delete_cmd_postfix": ") ",
          "delete_cmd_prefix": "rm(",
          "library": "var_list.r",
          "varRefreshCmd": "cat(var_dic_list()) "
        }
      },
      "types_to_exclude": [
        "module",
        "function",
        "builtin_function_or_method",
        "instance",
        "_Feature"
      ],
      "window_display": false
    },
    "colab": {
      "name": "ProyectoFinal.ipynb",
      "provenance": [],
      "collapsed_sections": [],
      "toc_visible": true
    }
  },
  "cells": [
    {
      "cell_type": "markdown",
      "metadata": {
        "id": "KIFno1QP8dHB",
        "colab_type": "text"
      },
      "source": [
        "\n",
        "Modelos Clasificación : Naive Bayes, K-Neighbors, Support Vector Machines.\n",
        "\n",
        "Autor : Alfredo Voltaire y Pedro Zuñiga"
      ]
    },
    {
      "cell_type": "code",
      "metadata": {
        "id": "XihqiyYx8dHE",
        "colab_type": "code",
        "colab": {}
      },
      "source": [
        "#Importar las librerías necesarias en Python.\n",
        "import os\n",
        "import pandas as pd ## Manejo de dataframes\n",
        "import matplotlib.pyplot as plt2 ## Todo lo referente a gráficas.\n",
        "import matplotlib as plt\n",
        "import numpy as np ## Todo lo referente a trabajar con vectores y matrices\n",
        "from scipy import stats ## Herramientas y algoritmos matemáticos para python\n",
        "import seaborn as sns # Se basa en Matplotlib y la complementa en el tema de graficos."
      ],
      "execution_count": 0,
      "outputs": []
    },
    {
      "cell_type": "code",
      "metadata": {
        "id": "voPU7RMz8dHJ",
        "colab_type": "code",
        "colab": {
          "base_uri": "https://localhost:8080/",
          "height": 34
        },
        "outputId": "5edc24c5-1069-4b0c-ef0e-8f9d03138844"
      },
      "source": [
        "#os.getcwd()"
      ],
      "execution_count": 2,
      "outputs": [
        {
          "output_type": "execute_result",
          "data": {
            "text/plain": [
              "'/content'"
            ]
          },
          "metadata": {
            "tags": []
          },
          "execution_count": 2
        }
      ]
    },
    {
      "cell_type": "code",
      "metadata": {
        "id": "aNUFOvXO8dHN",
        "colab_type": "code",
        "colab": {}
      },
      "source": [
        "# Leer el dataset en un dataframe usando pandas\n",
        "datos = pd.read_csv(\"train.csv\") "
      ],
      "execution_count": 0,
      "outputs": []
    },
    {
      "cell_type": "code",
      "metadata": {
        "id": "EzMYuh068dHP",
        "colab_type": "code",
        "colab": {
          "base_uri": "https://localhost:8080/",
          "height": 142
        },
        "outputId": "21019d88-c2e1-45fd-d0c0-36e22a631a94"
      },
      "source": [
        "# Cabecera\n",
        "datos.head(3)"
      ],
      "execution_count": 109,
      "outputs": [
        {
          "output_type": "execute_result",
          "data": {
            "text/html": [
              "<div>\n",
              "<style scoped>\n",
              "    .dataframe tbody tr th:only-of-type {\n",
              "        vertical-align: middle;\n",
              "    }\n",
              "\n",
              "    .dataframe tbody tr th {\n",
              "        vertical-align: top;\n",
              "    }\n",
              "\n",
              "    .dataframe thead th {\n",
              "        text-align: right;\n",
              "    }\n",
              "</style>\n",
              "<table border=\"1\" class=\"dataframe\">\n",
              "  <thead>\n",
              "    <tr style=\"text-align: right;\">\n",
              "      <th></th>\n",
              "      <th>Loan_ID</th>\n",
              "      <th>Gender</th>\n",
              "      <th>Married</th>\n",
              "      <th>Dependents</th>\n",
              "      <th>Education</th>\n",
              "      <th>Self_Employed</th>\n",
              "      <th>ApplicantIncome</th>\n",
              "      <th>CoapplicantIncome</th>\n",
              "      <th>LoanAmount</th>\n",
              "      <th>Loan_Amount_Term</th>\n",
              "      <th>Credit_History</th>\n",
              "      <th>Property_Area</th>\n",
              "      <th>Loan_Status</th>\n",
              "    </tr>\n",
              "  </thead>\n",
              "  <tbody>\n",
              "    <tr>\n",
              "      <th>0</th>\n",
              "      <td>LP001002</td>\n",
              "      <td>Male</td>\n",
              "      <td>No</td>\n",
              "      <td>0</td>\n",
              "      <td>Graduate</td>\n",
              "      <td>No</td>\n",
              "      <td>5849</td>\n",
              "      <td>0.0</td>\n",
              "      <td>NaN</td>\n",
              "      <td>360.0</td>\n",
              "      <td>1.0</td>\n",
              "      <td>Urban</td>\n",
              "      <td>Y</td>\n",
              "    </tr>\n",
              "    <tr>\n",
              "      <th>1</th>\n",
              "      <td>LP001003</td>\n",
              "      <td>Male</td>\n",
              "      <td>Yes</td>\n",
              "      <td>1</td>\n",
              "      <td>Graduate</td>\n",
              "      <td>No</td>\n",
              "      <td>4583</td>\n",
              "      <td>1508.0</td>\n",
              "      <td>128.0</td>\n",
              "      <td>360.0</td>\n",
              "      <td>1.0</td>\n",
              "      <td>Rural</td>\n",
              "      <td>N</td>\n",
              "    </tr>\n",
              "    <tr>\n",
              "      <th>2</th>\n",
              "      <td>LP001005</td>\n",
              "      <td>Male</td>\n",
              "      <td>Yes</td>\n",
              "      <td>0</td>\n",
              "      <td>Graduate</td>\n",
              "      <td>Yes</td>\n",
              "      <td>3000</td>\n",
              "      <td>0.0</td>\n",
              "      <td>66.0</td>\n",
              "      <td>360.0</td>\n",
              "      <td>1.0</td>\n",
              "      <td>Urban</td>\n",
              "      <td>Y</td>\n",
              "    </tr>\n",
              "  </tbody>\n",
              "</table>\n",
              "</div>"
            ],
            "text/plain": [
              "    Loan_ID Gender Married  ... Credit_History Property_Area Loan_Status\n",
              "0  LP001002   Male      No  ...            1.0         Urban           Y\n",
              "1  LP001003   Male     Yes  ...            1.0         Rural           N\n",
              "2  LP001005   Male     Yes  ...            1.0         Urban           Y\n",
              "\n",
              "[3 rows x 13 columns]"
            ]
          },
          "metadata": {
            "tags": []
          },
          "execution_count": 109
        }
      ]
    },
    {
      "cell_type": "code",
      "metadata": {
        "id": "In-2-thl8dHS",
        "colab_type": "code",
        "colab": {
          "base_uri": "https://localhost:8080/",
          "height": 34
        },
        "outputId": "7e092871-6e9a-4c54-877a-dfc8bbefbe65"
      },
      "source": [
        "datos.shape"
      ],
      "execution_count": 110,
      "outputs": [
        {
          "output_type": "execute_result",
          "data": {
            "text/plain": [
              "(614, 13)"
            ]
          },
          "metadata": {
            "tags": []
          },
          "execution_count": 110
        }
      ]
    },
    {
      "cell_type": "code",
      "metadata": {
        "id": "tXOhGTpj8dHV",
        "colab_type": "code",
        "colab": {
          "base_uri": "https://localhost:8080/",
          "height": 255
        },
        "outputId": "1df09894-9af7-49f7-dbfd-dc552fd6b56b"
      },
      "source": [
        "# Cantidad de nulos en toda la data\n",
        "datos.isnull().sum()"
      ],
      "execution_count": 111,
      "outputs": [
        {
          "output_type": "execute_result",
          "data": {
            "text/plain": [
              "Loan_ID               0\n",
              "Gender               13\n",
              "Married               3\n",
              "Dependents           15\n",
              "Education             0\n",
              "Self_Employed        32\n",
              "ApplicantIncome       0\n",
              "CoapplicantIncome     0\n",
              "LoanAmount           22\n",
              "Loan_Amount_Term     14\n",
              "Credit_History       50\n",
              "Property_Area         0\n",
              "Loan_Status           0\n",
              "dtype: int64"
            ]
          },
          "metadata": {
            "tags": []
          },
          "execution_count": 111
        }
      ]
    },
    {
      "cell_type": "code",
      "metadata": {
        "id": "_UXfq7PS8dHX",
        "colab_type": "code",
        "colab": {
          "base_uri": "https://localhost:8080/",
          "height": 85
        },
        "outputId": "3a44dada-1dd2-4910-8fb5-c51a2bb36e77"
      },
      "source": [
        "#datos.groupby('Married').size()"
      ],
      "execution_count": 8,
      "outputs": [
        {
          "output_type": "execute_result",
          "data": {
            "text/plain": [
              "Married\n",
              "No     213\n",
              "Yes    398\n",
              "dtype: int64"
            ]
          },
          "metadata": {
            "tags": []
          },
          "execution_count": 8
        }
      ]
    },
    {
      "cell_type": "code",
      "metadata": {
        "id": "BSAb_sjb8dHa",
        "colab_type": "code",
        "colab": {
          "base_uri": "https://localhost:8080/",
          "height": 452
        },
        "outputId": "765349af-bba9-4a57-d468-0147d9c104c1"
      },
      "source": [
        "datos.describe(include='all').transpose()"
      ],
      "execution_count": 112,
      "outputs": [
        {
          "output_type": "execute_result",
          "data": {
            "text/html": [
              "<div>\n",
              "<style scoped>\n",
              "    .dataframe tbody tr th:only-of-type {\n",
              "        vertical-align: middle;\n",
              "    }\n",
              "\n",
              "    .dataframe tbody tr th {\n",
              "        vertical-align: top;\n",
              "    }\n",
              "\n",
              "    .dataframe thead th {\n",
              "        text-align: right;\n",
              "    }\n",
              "</style>\n",
              "<table border=\"1\" class=\"dataframe\">\n",
              "  <thead>\n",
              "    <tr style=\"text-align: right;\">\n",
              "      <th></th>\n",
              "      <th>count</th>\n",
              "      <th>unique</th>\n",
              "      <th>top</th>\n",
              "      <th>freq</th>\n",
              "      <th>mean</th>\n",
              "      <th>std</th>\n",
              "      <th>min</th>\n",
              "      <th>25%</th>\n",
              "      <th>50%</th>\n",
              "      <th>75%</th>\n",
              "      <th>max</th>\n",
              "    </tr>\n",
              "  </thead>\n",
              "  <tbody>\n",
              "    <tr>\n",
              "      <th>Loan_ID</th>\n",
              "      <td>614</td>\n",
              "      <td>614</td>\n",
              "      <td>LP001514</td>\n",
              "      <td>1</td>\n",
              "      <td>NaN</td>\n",
              "      <td>NaN</td>\n",
              "      <td>NaN</td>\n",
              "      <td>NaN</td>\n",
              "      <td>NaN</td>\n",
              "      <td>NaN</td>\n",
              "      <td>NaN</td>\n",
              "    </tr>\n",
              "    <tr>\n",
              "      <th>Gender</th>\n",
              "      <td>601</td>\n",
              "      <td>2</td>\n",
              "      <td>Male</td>\n",
              "      <td>489</td>\n",
              "      <td>NaN</td>\n",
              "      <td>NaN</td>\n",
              "      <td>NaN</td>\n",
              "      <td>NaN</td>\n",
              "      <td>NaN</td>\n",
              "      <td>NaN</td>\n",
              "      <td>NaN</td>\n",
              "    </tr>\n",
              "    <tr>\n",
              "      <th>Married</th>\n",
              "      <td>611</td>\n",
              "      <td>2</td>\n",
              "      <td>Yes</td>\n",
              "      <td>398</td>\n",
              "      <td>NaN</td>\n",
              "      <td>NaN</td>\n",
              "      <td>NaN</td>\n",
              "      <td>NaN</td>\n",
              "      <td>NaN</td>\n",
              "      <td>NaN</td>\n",
              "      <td>NaN</td>\n",
              "    </tr>\n",
              "    <tr>\n",
              "      <th>Dependents</th>\n",
              "      <td>599</td>\n",
              "      <td>4</td>\n",
              "      <td>0</td>\n",
              "      <td>345</td>\n",
              "      <td>NaN</td>\n",
              "      <td>NaN</td>\n",
              "      <td>NaN</td>\n",
              "      <td>NaN</td>\n",
              "      <td>NaN</td>\n",
              "      <td>NaN</td>\n",
              "      <td>NaN</td>\n",
              "    </tr>\n",
              "    <tr>\n",
              "      <th>Education</th>\n",
              "      <td>614</td>\n",
              "      <td>2</td>\n",
              "      <td>Graduate</td>\n",
              "      <td>480</td>\n",
              "      <td>NaN</td>\n",
              "      <td>NaN</td>\n",
              "      <td>NaN</td>\n",
              "      <td>NaN</td>\n",
              "      <td>NaN</td>\n",
              "      <td>NaN</td>\n",
              "      <td>NaN</td>\n",
              "    </tr>\n",
              "    <tr>\n",
              "      <th>Self_Employed</th>\n",
              "      <td>582</td>\n",
              "      <td>2</td>\n",
              "      <td>No</td>\n",
              "      <td>500</td>\n",
              "      <td>NaN</td>\n",
              "      <td>NaN</td>\n",
              "      <td>NaN</td>\n",
              "      <td>NaN</td>\n",
              "      <td>NaN</td>\n",
              "      <td>NaN</td>\n",
              "      <td>NaN</td>\n",
              "    </tr>\n",
              "    <tr>\n",
              "      <th>ApplicantIncome</th>\n",
              "      <td>614</td>\n",
              "      <td>NaN</td>\n",
              "      <td>NaN</td>\n",
              "      <td>NaN</td>\n",
              "      <td>5403.46</td>\n",
              "      <td>6109.04</td>\n",
              "      <td>150</td>\n",
              "      <td>2877.5</td>\n",
              "      <td>3812.5</td>\n",
              "      <td>5795</td>\n",
              "      <td>81000</td>\n",
              "    </tr>\n",
              "    <tr>\n",
              "      <th>CoapplicantIncome</th>\n",
              "      <td>614</td>\n",
              "      <td>NaN</td>\n",
              "      <td>NaN</td>\n",
              "      <td>NaN</td>\n",
              "      <td>1621.25</td>\n",
              "      <td>2926.25</td>\n",
              "      <td>0</td>\n",
              "      <td>0</td>\n",
              "      <td>1188.5</td>\n",
              "      <td>2297.25</td>\n",
              "      <td>41667</td>\n",
              "    </tr>\n",
              "    <tr>\n",
              "      <th>LoanAmount</th>\n",
              "      <td>592</td>\n",
              "      <td>NaN</td>\n",
              "      <td>NaN</td>\n",
              "      <td>NaN</td>\n",
              "      <td>146.412</td>\n",
              "      <td>85.5873</td>\n",
              "      <td>9</td>\n",
              "      <td>100</td>\n",
              "      <td>128</td>\n",
              "      <td>168</td>\n",
              "      <td>700</td>\n",
              "    </tr>\n",
              "    <tr>\n",
              "      <th>Loan_Amount_Term</th>\n",
              "      <td>600</td>\n",
              "      <td>NaN</td>\n",
              "      <td>NaN</td>\n",
              "      <td>NaN</td>\n",
              "      <td>342</td>\n",
              "      <td>65.1204</td>\n",
              "      <td>12</td>\n",
              "      <td>360</td>\n",
              "      <td>360</td>\n",
              "      <td>360</td>\n",
              "      <td>480</td>\n",
              "    </tr>\n",
              "    <tr>\n",
              "      <th>Credit_History</th>\n",
              "      <td>564</td>\n",
              "      <td>NaN</td>\n",
              "      <td>NaN</td>\n",
              "      <td>NaN</td>\n",
              "      <td>0.842199</td>\n",
              "      <td>0.364878</td>\n",
              "      <td>0</td>\n",
              "      <td>1</td>\n",
              "      <td>1</td>\n",
              "      <td>1</td>\n",
              "      <td>1</td>\n",
              "    </tr>\n",
              "    <tr>\n",
              "      <th>Property_Area</th>\n",
              "      <td>614</td>\n",
              "      <td>3</td>\n",
              "      <td>Semiurban</td>\n",
              "      <td>233</td>\n",
              "      <td>NaN</td>\n",
              "      <td>NaN</td>\n",
              "      <td>NaN</td>\n",
              "      <td>NaN</td>\n",
              "      <td>NaN</td>\n",
              "      <td>NaN</td>\n",
              "      <td>NaN</td>\n",
              "    </tr>\n",
              "    <tr>\n",
              "      <th>Loan_Status</th>\n",
              "      <td>614</td>\n",
              "      <td>2</td>\n",
              "      <td>Y</td>\n",
              "      <td>422</td>\n",
              "      <td>NaN</td>\n",
              "      <td>NaN</td>\n",
              "      <td>NaN</td>\n",
              "      <td>NaN</td>\n",
              "      <td>NaN</td>\n",
              "      <td>NaN</td>\n",
              "      <td>NaN</td>\n",
              "    </tr>\n",
              "  </tbody>\n",
              "</table>\n",
              "</div>"
            ],
            "text/plain": [
              "                  count unique        top freq  ...     25%     50%      75%    max\n",
              "Loan_ID             614    614   LP001514    1  ...     NaN     NaN      NaN    NaN\n",
              "Gender              601      2       Male  489  ...     NaN     NaN      NaN    NaN\n",
              "Married             611      2        Yes  398  ...     NaN     NaN      NaN    NaN\n",
              "Dependents          599      4          0  345  ...     NaN     NaN      NaN    NaN\n",
              "Education           614      2   Graduate  480  ...     NaN     NaN      NaN    NaN\n",
              "Self_Employed       582      2         No  500  ...     NaN     NaN      NaN    NaN\n",
              "ApplicantIncome     614    NaN        NaN  NaN  ...  2877.5  3812.5     5795  81000\n",
              "CoapplicantIncome   614    NaN        NaN  NaN  ...       0  1188.5  2297.25  41667\n",
              "LoanAmount          592    NaN        NaN  NaN  ...     100     128      168    700\n",
              "Loan_Amount_Term    600    NaN        NaN  NaN  ...     360     360      360    480\n",
              "Credit_History      564    NaN        NaN  NaN  ...       1       1        1      1\n",
              "Property_Area       614      3  Semiurban  233  ...     NaN     NaN      NaN    NaN\n",
              "Loan_Status         614      2          Y  422  ...     NaN     NaN      NaN    NaN\n",
              "\n",
              "[13 rows x 11 columns]"
            ]
          },
          "metadata": {
            "tags": []
          },
          "execution_count": 112
        }
      ]
    },
    {
      "cell_type": "code",
      "metadata": {
        "id": "sN-7OOU38dHc",
        "colab_type": "code",
        "colab": {
          "base_uri": "https://localhost:8080/",
          "height": 272
        },
        "outputId": "00a6f204-2069-480c-c6b5-1d1e768d0520"
      },
      "source": [
        "# Revisar los valores perdidos\n",
        "# Creamos una función:\n",
        "def num_missing(x):\n",
        "    #suma la cantidad de missing en nuestra data\n",
        "  return sum(x.isnull())\n",
        "\n",
        "#Aplicamos nuestra funcion por columna:\n",
        "print(\"Valores perdidos por columna\")\n",
        "print(datos.apply(num_missing, axis=0)) # Axis = 0 es vertical , axis = 1 horizontal."
      ],
      "execution_count": 113,
      "outputs": [
        {
          "output_type": "stream",
          "text": [
            "Valores perdidos por columna\n",
            "Loan_ID               0\n",
            "Gender               13\n",
            "Married               3\n",
            "Dependents           15\n",
            "Education             0\n",
            "Self_Employed        32\n",
            "ApplicantIncome       0\n",
            "CoapplicantIncome     0\n",
            "LoanAmount           22\n",
            "Loan_Amount_Term     14\n",
            "Credit_History       50\n",
            "Property_Area         0\n",
            "Loan_Status           0\n",
            "dtype: int64\n"
          ],
          "name": "stdout"
        }
      ]
    },
    {
      "cell_type": "code",
      "metadata": {
        "id": "WoSwh9Xn8dHf",
        "colab_type": "code",
        "colab": {}
      },
      "source": [
        "# Haciendo unos replace\n",
        "datos['Dependents'] = datos['Dependents'].replace({'0': 1,'1': 2, '2': 3, '3+': 4})\n",
        "datos['Gender'] = datos['Gender'].replace({'Female': 1,'Male': 2})\n",
        "datos['Married'] = datos['Married'].replace({'No': 1,'Yes': 2})\n",
        "datos['Self_Employed'] = datos['Self_Employed'].replace({'No': 1,'Yes': 2})\n",
        "datos['Education'] = datos['Education'].replace({'Graduate': 1,'Not Graduate': 2})\n",
        "datos['Credit_History'] = datos['Credit_History'].replace({0: 1,1: 2})\n",
        "datos['Property_Area'] = datos['Property_Area'].replace({'Rural': 1, 'Semiurban': 2, 'Urban': 3})"
      ],
      "execution_count": 0,
      "outputs": []
    },
    {
      "cell_type": "code",
      "metadata": {
        "id": "G9WqA_vq8dHh",
        "colab_type": "code",
        "colab": {
          "base_uri": "https://localhost:8080/",
          "height": 34
        },
        "outputId": "f8af5c74-db29-4334-e7ea-bf47ec0aeeeb"
      },
      "source": [
        "datos.shape"
      ],
      "execution_count": 115,
      "outputs": [
        {
          "output_type": "execute_result",
          "data": {
            "text/plain": [
              "(614, 13)"
            ]
          },
          "metadata": {
            "tags": []
          },
          "execution_count": 115
        }
      ]
    },
    {
      "cell_type": "code",
      "metadata": {
        "id": "dUZ7J2Ej8dHl",
        "colab_type": "code",
        "colab": {}
      },
      "source": [
        "# Imputación Paramétrica\n",
        "# Para variables cuantitativas se puede usar medias o medianas; para las cualitativas, moda.\n",
        "# Imputamos por moda todas las variables cualitativas\n",
        "for column in ['Gender', 'Married', 'Self_Employed', 'Credit_History','Dependents']:\n",
        "    datos[column] = datos[column].fillna(datos[column].mode()[0])\n",
        "\n",
        "# Imputamos por mediana todas las variables cuantitativas\n",
        "\n",
        "for column in ['LoanAmount', 'Loan_Amount_Term']:\n",
        "    datos[column] = datos[column].fillna(datos[column].median())  "
      ],
      "execution_count": 0,
      "outputs": []
    },
    {
      "cell_type": "code",
      "metadata": {
        "id": "j1klrzN68dHo",
        "colab_type": "code",
        "colab": {
          "base_uri": "https://localhost:8080/",
          "height": 272
        },
        "outputId": "0126f4e0-cfb1-4267-b502-ea62d0273a0c"
      },
      "source": [
        "# Aplicamos nuestra funcion a la data imputada por columna:\n",
        "print(\"Valores perdidos por columna\")\n",
        "print(datos.apply(num_missing, axis=0)) "
      ],
      "execution_count": 15,
      "outputs": [
        {
          "output_type": "stream",
          "text": [
            "Valores perdidos por columna\n",
            "Loan_ID              0\n",
            "Gender               0\n",
            "Married              0\n",
            "Dependents           0\n",
            "Education            0\n",
            "Self_Employed        0\n",
            "ApplicantIncome      0\n",
            "CoapplicantIncome    0\n",
            "LoanAmount           0\n",
            "Loan_Amount_Term     0\n",
            "Credit_History       0\n",
            "Property_Area        0\n",
            "Loan_Status          0\n",
            "dtype: int64\n"
          ],
          "name": "stdout"
        }
      ]
    },
    {
      "cell_type": "code",
      "metadata": {
        "id": "-iH7FsAq8dHq",
        "colab_type": "code",
        "colab": {
          "base_uri": "https://localhost:8080/",
          "height": 111
        },
        "outputId": "9d89c422-c056-4e56-947e-8370d8f32401"
      },
      "source": [
        "datos.head(2)"
      ],
      "execution_count": 27,
      "outputs": [
        {
          "output_type": "execute_result",
          "data": {
            "text/html": [
              "<div>\n",
              "<style scoped>\n",
              "    .dataframe tbody tr th:only-of-type {\n",
              "        vertical-align: middle;\n",
              "    }\n",
              "\n",
              "    .dataframe tbody tr th {\n",
              "        vertical-align: top;\n",
              "    }\n",
              "\n",
              "    .dataframe thead th {\n",
              "        text-align: right;\n",
              "    }\n",
              "</style>\n",
              "<table border=\"1\" class=\"dataframe\">\n",
              "  <thead>\n",
              "    <tr style=\"text-align: right;\">\n",
              "      <th></th>\n",
              "      <th>Gender</th>\n",
              "      <th>Married</th>\n",
              "      <th>Dependents</th>\n",
              "      <th>Education</th>\n",
              "      <th>Self_Employed</th>\n",
              "      <th>ApplicantIncome</th>\n",
              "      <th>CoapplicantIncome</th>\n",
              "      <th>LoanAmount</th>\n",
              "      <th>Loan_Amount_Term</th>\n",
              "      <th>Credit_History</th>\n",
              "      <th>Property_Area</th>\n",
              "      <th>Loan_Status</th>\n",
              "    </tr>\n",
              "  </thead>\n",
              "  <tbody>\n",
              "    <tr>\n",
              "      <th>0</th>\n",
              "      <td>2.0</td>\n",
              "      <td>1.0</td>\n",
              "      <td>1.0</td>\n",
              "      <td>1</td>\n",
              "      <td>1.0</td>\n",
              "      <td>5849</td>\n",
              "      <td>0.0</td>\n",
              "      <td>128.0</td>\n",
              "      <td>360.0</td>\n",
              "      <td>2.0</td>\n",
              "      <td>3</td>\n",
              "      <td>Y</td>\n",
              "    </tr>\n",
              "    <tr>\n",
              "      <th>1</th>\n",
              "      <td>2.0</td>\n",
              "      <td>2.0</td>\n",
              "      <td>2.0</td>\n",
              "      <td>1</td>\n",
              "      <td>1.0</td>\n",
              "      <td>4583</td>\n",
              "      <td>1508.0</td>\n",
              "      <td>128.0</td>\n",
              "      <td>360.0</td>\n",
              "      <td>2.0</td>\n",
              "      <td>1</td>\n",
              "      <td>N</td>\n",
              "    </tr>\n",
              "  </tbody>\n",
              "</table>\n",
              "</div>"
            ],
            "text/plain": [
              "   Gender  Married  Dependents  ...  Credit_History  Property_Area  Loan_Status\n",
              "0     2.0      1.0         1.0  ...             2.0              3            Y\n",
              "1     2.0      2.0         2.0  ...             2.0              1            N\n",
              "\n",
              "[2 rows x 12 columns]"
            ]
          },
          "metadata": {
            "tags": []
          },
          "execution_count": 27
        }
      ]
    },
    {
      "cell_type": "code",
      "metadata": {
        "id": "TxWzpnvteFlB",
        "colab_type": "code",
        "colab": {
          "base_uri": "https://localhost:8080/",
          "height": 401
        },
        "outputId": "eb903430-f2e2-474c-f672-c3b277223a57"
      },
      "source": [
        "# Análisis de cajas BOX PLOT\n",
        "import matplotlib.pyplot as plt\n",
        "\n",
        "plt.boxplot(datos['LoanAmount'])"
      ],
      "execution_count": 134,
      "outputs": [
        {
          "output_type": "execute_result",
          "data": {
            "text/plain": [
              "{'boxes': [<matplotlib.lines.Line2D at 0x7f2299a71860>],\n",
              " 'caps': [<matplotlib.lines.Line2D at 0x7f2299a7c0f0>,\n",
              "  <matplotlib.lines.Line2D at 0x7f2299a7c438>],\n",
              " 'fliers': [<matplotlib.lines.Line2D at 0x7f2299a7cac8>],\n",
              " 'means': [],\n",
              " 'medians': [<matplotlib.lines.Line2D at 0x7f2299a7c780>],\n",
              " 'whiskers': [<matplotlib.lines.Line2D at 0x7f2299a719b0>,\n",
              "  <matplotlib.lines.Line2D at 0x7f2299a71d68>]}"
            ]
          },
          "metadata": {
            "tags": []
          },
          "execution_count": 134
        },
        {
          "output_type": "display_data",
          "data": {
            "image/png": "[encoded data removed]",
            "text/plain": [
              "<Figure size 432x288 with 1 Axes>"
            ]
          },
          "metadata": {
            "tags": []
          }
        }
      ]
    },
    {
      "cell_type": "code",
      "metadata": {
        "colab_type": "code",
        "outputId": "c400dcdc-e928-42ea-b61d-545830efc033",
        "id": "etLKq105iE0T",
        "colab": {
          "base_uri": "https://localhost:8080/",
          "height": 296
        }
      },
      "source": [
        "import seaborn as sns\n",
        "sns.distplot(datos['LoanAmount'])"
      ],
      "execution_count": 0,
      "outputs": [
        {
          "output_type": "execute_result",
          "data": {
            "text/plain": [
              "<matplotlib.axes._subplots.AxesSubplot at 0x7f229c8ea470>"
            ]
          },
          "metadata": {
            "tags": []
          },
          "execution_count": 130
        },
        {
          "output_type": "display_data",
          "data": {
            "image/png": "[encoded data removed]",
            "text/plain": [
              "<Figure size 432x288 with 1 Axes>"
            ]
          },
          "metadata": {
            "tags": []
          }
        }
      ]
    },
    {
      "cell_type": "code",
      "metadata": {
        "id": "Vlf0Mp36hoxM",
        "colab_type": "code",
        "colab": {
          "base_uri": "https://localhost:8080/",
          "height": 316
        },
        "outputId": "63b7ecf5-d1ac-4e09-d150-b7fdbbf0a5e9"
      },
      "source": [
        "import matplotlib.pyplot as plt\n",
        "plt.hist(datos['Dependents'])"
      ],
      "execution_count": 133,
      "outputs": [
        {
          "output_type": "execute_result",
          "data": {
            "text/plain": [
              "(array([360.,   0.,   0., 102.,   0.,   0., 101.,   0.,   0.,  51.]),\n",
              " array([1. , 1.3, 1.6, 1.9, 2.2, 2.5, 2.8, 3.1, 3.4, 3.7, 4. ]),\n",
              " <a list of 10 Patch objects>)"
            ]
          },
          "metadata": {
            "tags": []
          },
          "execution_count": 133
        },
        {
          "output_type": "display_data",
          "data": {
            "image/png": "[encoded data removed]",
            "text/plain": [
              "<Figure size 432x288 with 1 Axes>"
            ]
          },
          "metadata": {
            "tags": []
          }
        }
      ]
    },
    {
      "cell_type": "code",
      "metadata": {
        "id": "xDeyi-zz8dHt",
        "colab_type": "code",
        "colab": {}
      },
      "source": [
        "# Le quitamos la variable Loan_ID o identificador único para poder modelar la información \n",
        "datos.drop('Loan_ID', axis=1,inplace=True)"
      ],
      "execution_count": 0,
      "outputs": []
    },
    {
      "cell_type": "code",
      "metadata": {
        "id": "jBlq7ZDL8dHv",
        "colab_type": "code",
        "colab": {
          "base_uri": "https://localhost:8080/",
          "height": 204
        },
        "outputId": "8ec46b90-ebd4-440d-8d9c-db2cd7db8ebb"
      },
      "source": [
        "datos.head()"
      ],
      "execution_count": 118,
      "outputs": [
        {
          "output_type": "execute_result",
          "data": {
            "text/html": [
              "<div>\n",
              "<style scoped>\n",
              "    .dataframe tbody tr th:only-of-type {\n",
              "        vertical-align: middle;\n",
              "    }\n",
              "\n",
              "    .dataframe tbody tr th {\n",
              "        vertical-align: top;\n",
              "    }\n",
              "\n",
              "    .dataframe thead th {\n",
              "        text-align: right;\n",
              "    }\n",
              "</style>\n",
              "<table border=\"1\" class=\"dataframe\">\n",
              "  <thead>\n",
              "    <tr style=\"text-align: right;\">\n",
              "      <th></th>\n",
              "      <th>Gender</th>\n",
              "      <th>Married</th>\n",
              "      <th>Dependents</th>\n",
              "      <th>Education</th>\n",
              "      <th>Self_Employed</th>\n",
              "      <th>ApplicantIncome</th>\n",
              "      <th>CoapplicantIncome</th>\n",
              "      <th>LoanAmount</th>\n",
              "      <th>Loan_Amount_Term</th>\n",
              "      <th>Credit_History</th>\n",
              "      <th>Property_Area</th>\n",
              "      <th>Loan_Status</th>\n",
              "    </tr>\n",
              "  </thead>\n",
              "  <tbody>\n",
              "    <tr>\n",
              "      <th>0</th>\n",
              "      <td>2.0</td>\n",
              "      <td>1.0</td>\n",
              "      <td>1.0</td>\n",
              "      <td>1</td>\n",
              "      <td>1.0</td>\n",
              "      <td>5849</td>\n",
              "      <td>0.0</td>\n",
              "      <td>128.0</td>\n",
              "      <td>360.0</td>\n",
              "      <td>2.0</td>\n",
              "      <td>3</td>\n",
              "      <td>Y</td>\n",
              "    </tr>\n",
              "    <tr>\n",
              "      <th>1</th>\n",
              "      <td>2.0</td>\n",
              "      <td>2.0</td>\n",
              "      <td>2.0</td>\n",
              "      <td>1</td>\n",
              "      <td>1.0</td>\n",
              "      <td>4583</td>\n",
              "      <td>1508.0</td>\n",
              "      <td>128.0</td>\n",
              "      <td>360.0</td>\n",
              "      <td>2.0</td>\n",
              "      <td>1</td>\n",
              "      <td>N</td>\n",
              "    </tr>\n",
              "    <tr>\n",
              "      <th>2</th>\n",
              "      <td>2.0</td>\n",
              "      <td>2.0</td>\n",
              "      <td>1.0</td>\n",
              "      <td>1</td>\n",
              "      <td>2.0</td>\n",
              "      <td>3000</td>\n",
              "      <td>0.0</td>\n",
              "      <td>66.0</td>\n",
              "      <td>360.0</td>\n",
              "      <td>2.0</td>\n",
              "      <td>3</td>\n",
              "      <td>Y</td>\n",
              "    </tr>\n",
              "    <tr>\n",
              "      <th>3</th>\n",
              "      <td>2.0</td>\n",
              "      <td>2.0</td>\n",
              "      <td>1.0</td>\n",
              "      <td>2</td>\n",
              "      <td>1.0</td>\n",
              "      <td>2583</td>\n",
              "      <td>2358.0</td>\n",
              "      <td>120.0</td>\n",
              "      <td>360.0</td>\n",
              "      <td>2.0</td>\n",
              "      <td>3</td>\n",
              "      <td>Y</td>\n",
              "    </tr>\n",
              "    <tr>\n",
              "      <th>4</th>\n",
              "      <td>2.0</td>\n",
              "      <td>1.0</td>\n",
              "      <td>1.0</td>\n",
              "      <td>1</td>\n",
              "      <td>1.0</td>\n",
              "      <td>6000</td>\n",
              "      <td>0.0</td>\n",
              "      <td>141.0</td>\n",
              "      <td>360.0</td>\n",
              "      <td>2.0</td>\n",
              "      <td>3</td>\n",
              "      <td>Y</td>\n",
              "    </tr>\n",
              "  </tbody>\n",
              "</table>\n",
              "</div>"
            ],
            "text/plain": [
              "   Gender  Married  Dependents  ...  Credit_History  Property_Area  Loan_Status\n",
              "0     2.0      1.0         1.0  ...             2.0              3            Y\n",
              "1     2.0      2.0         2.0  ...             2.0              1            N\n",
              "2     2.0      2.0         1.0  ...             2.0              3            Y\n",
              "3     2.0      2.0         1.0  ...             2.0              3            Y\n",
              "4     2.0      1.0         1.0  ...             2.0              3            Y\n",
              "\n",
              "[5 rows x 12 columns]"
            ]
          },
          "metadata": {
            "tags": []
          },
          "execution_count": 118
        }
      ]
    },
    {
      "cell_type": "code",
      "metadata": {
        "id": "O614K6DF8dHx",
        "colab_type": "code",
        "colab": {}
      },
      "source": [
        "# Creación de la data de train y la data de test\n",
        "from sklearn.model_selection import train_test_split\n",
        "\n",
        "X_train, X_test, y_train, y_test = train_test_split(datos.drop('Loan_Status', axis=1), datos['Loan_Status'], test_size=0.30)"
      ],
      "execution_count": 0,
      "outputs": []
    },
    {
      "cell_type": "code",
      "metadata": {
        "id": "OxkFd1KY8dH0",
        "colab_type": "code",
        "colab": {}
      },
      "source": [
        "#######################################################################\n",
        "##### Modelo de Clasificación Bayesiano : de Naive Bayes ##############\n",
        "#######################################################################"
      ],
      "execution_count": 0,
      "outputs": []
    },
    {
      "cell_type": "code",
      "metadata": {
        "id": "-f3kruSr8dH2",
        "colab_type": "code",
        "colab": {}
      },
      "source": [
        "from sklearn.naive_bayes import GaussianNB\n",
        "from sklearn.naive_bayes import MultinomialNB\n",
        "from sklearn.naive_bayes import BernoulliNB\n",
        "NB = GaussianNB()"
      ],
      "execution_count": 0,
      "outputs": []
    },
    {
      "cell_type": "code",
      "metadata": {
        "id": "Uz83o8zL8dH4",
        "colab_type": "code",
        "colab": {
          "base_uri": "https://localhost:8080/",
          "height": 34
        },
        "outputId": "dedc4440-6deb-4174-c5ac-f763178b9650"
      },
      "source": [
        "# Cross Validation, FPR/TPR, AUC y Cálculo de coeficiente GINI\n",
        "from sklearn.model_selection import cross_val_predict\n",
        "from sklearn.metrics import roc_curve\n",
        "from sklearn.metrics import auc\n",
        "from sklearn.metrics import roc_auc_score\n",
        "y_probas_NB = cross_val_predict(NB, X_train, y_train, cv=3, method=\"predict_proba\")\n",
        "y_scores_NB = y_probas_NB[:, 1]  # score = probabilidad de clase positiva\n",
        "fpr_NB, tpr_NB, thresholds_NB = roc_curve(y_train, y_scores_NB, pos_label=\"Y\")\n",
        "roc_auc_NB = auc(fpr_NB, tpr_NB)\n",
        "roc_auc_score_NB = roc_auc_score(y_train, y_scores_NB)\n",
        "gini_coef_NB = 2 * roc_auc_score_NB - 1\n",
        "roc_auc_NB, roc_auc_score_NB, gini_coef_NB"
      ],
      "execution_count": 32,
      "outputs": [
        {
          "output_type": "execute_result",
          "data": {
            "text/plain": [
              "(0.7136278565799842, 0.7136278565799842, 0.42725571315996835)"
            ]
          },
          "metadata": {
            "tags": []
          },
          "execution_count": 32
        }
      ]
    },
    {
      "cell_type": "code",
      "metadata": {
        "id": "z6BcqAzm8dH8",
        "colab_type": "code",
        "colab": {
          "base_uri": "https://localhost:8080/",
          "height": 295
        },
        "outputId": "e0ac2809-de59-4f79-a10a-88052e099903"
      },
      "source": [
        "# The ROC Curve Plotting\n",
        "import matplotlib.pyplot as plt\n",
        "plt.title('ROC Curve')\n",
        "plt.ylabel('True Positive Rate')\n",
        "plt.xlabel('False Positive Rate')\n",
        "plt.rc('grid', linestyle=\"--\", color='grey')\n",
        "plt.grid()\n",
        "plt.plot([0, 1], [0, 1],'r--', linewidth=0.75)\n",
        "plt.plot(fpr_NB, tpr_NB, 'g', linewidth=0.75, label = 'NB AUC = %0.3f' % roc_auc_NB)\n",
        "plt.legend(loc = 'lower right')\n",
        "plt.show()"
      ],
      "execution_count": 35,
      "outputs": [
        {
          "output_type": "display_data",
          "data": {
            "image/png": "[encoded data removed]",
            "text/plain": [
              "<Figure size 432x288 with 1 Axes>"
            ]
          },
          "metadata": {
            "tags": []
          }
        }
      ]
    },
    {
      "cell_type": "code",
      "metadata": {
        "id": "gHF-0rDu8dIA",
        "colab_type": "code",
        "colab": {
          "base_uri": "https://localhost:8080/",
          "height": 68
        },
        "outputId": "b8c37072-4daf-4c2f-d48b-90cd4faeca96"
      },
      "source": [
        "# Training, and prediction on Test dataset. Confusion matrix\n",
        "NB.fit(X_train, y_train)\n",
        "pred_NB=NB.predict(X_test)\n",
        "from sklearn.metrics import confusion_matrix\n",
        "print('Matriz de confusión')\n",
        "confusion_matrix(y_test, pred_NB)"
      ],
      "execution_count": 36,
      "outputs": [
        {
          "output_type": "stream",
          "text": [
            "Matriz de confusión\n"
          ],
          "name": "stdout"
        },
        {
          "output_type": "execute_result",
          "data": {
            "text/plain": [
              "array([[ 19,  32],\n",
              "       [  7, 127]])"
            ]
          },
          "metadata": {
            "tags": []
          },
          "execution_count": 36
        }
      ]
    },
    {
      "cell_type": "code",
      "metadata": {
        "id": "eORo_1pV8dID",
        "colab_type": "code",
        "colab": {
          "base_uri": "https://localhost:8080/",
          "height": 187
        },
        "outputId": "09450901-dbee-43b9-8668-128e357f642f"
      },
      "source": [
        "# Other additional metrics on Test dataset predictions\n",
        "from sklearn.metrics import classification_report\n",
        "print('Indicadores')\n",
        "print(classification_report(y_test, pred_NB))"
      ],
      "execution_count": 39,
      "outputs": [
        {
          "output_type": "stream",
          "text": [
            "Indicadores\n",
            "              precision    recall  f1-score   support\n",
            "\n",
            "           N       0.73      0.37      0.49        51\n",
            "           Y       0.80      0.95      0.87       134\n",
            "\n",
            "    accuracy                           0.79       185\n",
            "   macro avg       0.76      0.66      0.68       185\n",
            "weighted avg       0.78      0.79      0.76       185\n",
            "\n"
          ],
          "name": "stdout"
        }
      ]
    },
    {
      "cell_type": "code",
      "metadata": {
        "id": "ns9rd41D8dIF",
        "colab_type": "code",
        "colab": {}
      },
      "source": [
        "#######################################################################\n",
        "##### Modelo de Clasificación : K-NN ##################################\n",
        "#######################################################################"
      ],
      "execution_count": 0,
      "outputs": []
    },
    {
      "cell_type": "code",
      "metadata": {
        "id": "gwbmf7IU8dII",
        "colab_type": "code",
        "colab": {}
      },
      "source": [
        "from sklearn.neighbors import KNeighborsClassifier # Cuando utilizo p=1 Manhathan, p=2 Euclídea \n",
        "neigh = KNeighborsClassifier(n_neighbors=15)  # KNeighborsClassifier(n_neighbors=30,algorithm='kd_tree',p=1)"
      ],
      "execution_count": 0,
      "outputs": []
    },
    {
      "cell_type": "code",
      "metadata": {
        "id": "ynUUIYhz8dIK",
        "colab_type": "code",
        "colab": {
          "base_uri": "https://localhost:8080/",
          "height": 34
        },
        "outputId": "9d55a237-eccb-4927-d952-06453d14299a"
      },
      "source": [
        "# Cross Validation, FPR/TPR, AUC y Cálculo de coeficiente GINI\n",
        "from sklearn.model_selection import cross_val_predict\n",
        "from sklearn.metrics import roc_curve\n",
        "from sklearn.metrics import auc\n",
        "from sklearn.metrics import roc_auc_score\n",
        "y_probas_KNN = cross_val_predict(neigh, X_train, y_train, cv=3, method=\"predict_proba\")\n",
        "y_scores_KNN = y_probas_KNN[:, 1]  # score = probabilidad de clase positiva\n",
        "fpr_KNN, tpr_KNN, thresholds_KNN = roc_curve(y_train, y_scores_KNN, pos_label=\"Y\")\n",
        "roc_auc_KNN = auc(fpr_KNN, tpr_KNN)\n",
        "roc_auc_score_KNN = roc_auc_score(y_train, y_scores_KNN)\n",
        "gini_coef_KNN = 2 * roc_auc_score_KNN - 1\n",
        "roc_auc_KNN, roc_auc_score_KNN, gini_coef_KNN"
      ],
      "execution_count": 41,
      "outputs": [
        {
          "output_type": "execute_result",
          "data": {
            "text/plain": [
              "(0.5400413711583925, 0.5400413711583925, 0.08008274231678492)"
            ]
          },
          "metadata": {
            "tags": []
          },
          "execution_count": 41
        }
      ]
    },
    {
      "cell_type": "code",
      "metadata": {
        "id": "ziklJM96HuQV",
        "colab_type": "code",
        "colab": {}
      },
      "source": [
        "## Reducción de dimensiones utilizando PCA ##\n",
        "\n",
        "from sklearn.decomposition import PCA\n",
        "pca = PCA(n_components = 3)\n",
        "X_train_array_pca = pca.fit_transform(X_train)  # reduccion de dimensionalidad\n",
        "X_train_pca = pd.DataFrame(X_train_array_pca, index=X_train.index)  # reemplazamos dichos datos en X_train"
      ],
      "execution_count": 0,
      "outputs": []
    },
    {
      "cell_type": "code",
      "metadata": {
        "id": "e84ktzswKDUR",
        "colab_type": "code",
        "colab": {
          "base_uri": "https://localhost:8080/",
          "height": 359
        },
        "outputId": "735891a1-9237-41c2-e5c2-4f420146ac2b"
      },
      "source": [
        "X_train_pca.head(10)"
      ],
      "execution_count": 136,
      "outputs": [
        {
          "output_type": "execute_result",
          "data": {
            "text/html": [
              "<div>\n",
              "<style scoped>\n",
              "    .dataframe tbody tr th:only-of-type {\n",
              "        vertical-align: middle;\n",
              "    }\n",
              "\n",
              "    .dataframe tbody tr th {\n",
              "        vertical-align: top;\n",
              "    }\n",
              "\n",
              "    .dataframe thead th {\n",
              "        text-align: right;\n",
              "    }\n",
              "</style>\n",
              "<table border=\"1\" class=\"dataframe\">\n",
              "  <thead>\n",
              "    <tr style=\"text-align: right;\">\n",
              "      <th></th>\n",
              "      <th>0</th>\n",
              "      <th>1</th>\n",
              "      <th>2</th>\n",
              "    </tr>\n",
              "  </thead>\n",
              "  <tbody>\n",
              "    <tr>\n",
              "      <th>179</th>\n",
              "      <td>-2911.026926</td>\n",
              "      <td>-528.449628</td>\n",
              "      <td>-94.042722</td>\n",
              "    </tr>\n",
              "    <tr>\n",
              "      <th>417</th>\n",
              "      <td>-5209.267231</td>\n",
              "      <td>17892.849205</td>\n",
              "      <td>-31.211689</td>\n",
              "    </tr>\n",
              "    <tr>\n",
              "      <th>390</th>\n",
              "      <td>4021.746344</td>\n",
              "      <td>-1395.752627</td>\n",
              "      <td>-26.388755</td>\n",
              "    </tr>\n",
              "    <tr>\n",
              "      <th>299</th>\n",
              "      <td>-3353.391660</td>\n",
              "      <td>913.509453</td>\n",
              "      <td>-6.050227</td>\n",
              "    </tr>\n",
              "    <tr>\n",
              "      <th>251</th>\n",
              "      <td>-1697.870418</td>\n",
              "      <td>-1881.307846</td>\n",
              "      <td>-25.025373</td>\n",
              "    </tr>\n",
              "    <tr>\n",
              "      <th>404</th>\n",
              "      <td>2302.063504</td>\n",
              "      <td>-1541.583963</td>\n",
              "      <td>-40.906578</td>\n",
              "    </tr>\n",
              "    <tr>\n",
              "      <th>551</th>\n",
              "      <td>-2830.473718</td>\n",
              "      <td>406.011912</td>\n",
              "      <td>-15.193370</td>\n",
              "    </tr>\n",
              "    <tr>\n",
              "      <th>89</th>\n",
              "      <td>209.733257</td>\n",
              "      <td>2462.648466</td>\n",
              "      <td>-23.246462</td>\n",
              "    </tr>\n",
              "    <tr>\n",
              "      <th>412</th>\n",
              "      <td>962.124343</td>\n",
              "      <td>-1655.096703</td>\n",
              "      <td>-63.178422</td>\n",
              "    </tr>\n",
              "    <tr>\n",
              "      <th>197</th>\n",
              "      <td>-3412.576544</td>\n",
              "      <td>346.537854</td>\n",
              "      <td>-13.015675</td>\n",
              "    </tr>\n",
              "  </tbody>\n",
              "</table>\n",
              "</div>"
            ],
            "text/plain": [
              "               0             1          2\n",
              "179 -2911.026926   -528.449628 -94.042722\n",
              "417 -5209.267231  17892.849205 -31.211689\n",
              "390  4021.746344  -1395.752627 -26.388755\n",
              "299 -3353.391660    913.509453  -6.050227\n",
              "251 -1697.870418  -1881.307846 -25.025373\n",
              "404  2302.063504  -1541.583963 -40.906578\n",
              "551 -2830.473718    406.011912 -15.193370\n",
              "89    209.733257   2462.648466 -23.246462\n",
              "412   962.124343  -1655.096703 -63.178422\n",
              "197 -3412.576544    346.537854 -13.015675"
            ]
          },
          "metadata": {
            "tags": []
          },
          "execution_count": 136
        }
      ]
    },
    {
      "cell_type": "code",
      "metadata": {
        "id": "lVIYpdf2LviV",
        "colab_type": "code",
        "colab": {
          "base_uri": "https://localhost:8080/",
          "height": 34
        },
        "outputId": "e3814867-067b-4e7b-8f3e-cbca5c9046c7"
      },
      "source": [
        "# Cross Validation, FPR/TPR, AUC y Cálculo de coeficiente GINI. CON REDUCCIÓN DE DIMENSIONES\n",
        "from sklearn.model_selection import cross_val_predict\n",
        "from sklearn.metrics import roc_curve\n",
        "from sklearn.metrics import auc\n",
        "from sklearn.metrics import roc_auc_score\n",
        "y_probas_KNN_pca = cross_val_predict(neigh, X_train_pca, y_train, cv=3, method=\"predict_proba\")\n",
        "y_scores_KNN_pca = y_probas_KNN_pca[:, 1]  # score = probabilidad de clase positiva\n",
        "fpr_KNN_pca, tpr_KNN_pca, thresholds_KNN_pca = roc_curve(y_train, y_scores_KNN_pca, pos_label=\"Y\")\n",
        "roc_auc_KNN_pca = auc(fpr_KNN_pca, tpr_KNN_pca)\n",
        "roc_auc_score_KNN_pca = roc_auc_score(y_train, y_scores_KNN_pca)\n",
        "gini_coef_KNN_pca = 2 * roc_auc_score_KNN_pca - 1\n",
        "roc_auc_KNN_pca, roc_auc_score_KNN_pca, gini_coef_KNN_pca"
      ],
      "execution_count": 137,
      "outputs": [
        {
          "output_type": "execute_result",
          "data": {
            "text/plain": [
              "(0.5925848672889399, 0.5925848672889399, 0.18516973457787977)"
            ]
          },
          "metadata": {
            "tags": []
          },
          "execution_count": 137
        }
      ]
    },
    {
      "cell_type": "code",
      "metadata": {
        "id": "IMvZ2DPcMiYY",
        "colab_type": "code",
        "colab": {
          "base_uri": "https://localhost:8080/",
          "height": 295
        },
        "outputId": "902cc101-0228-438e-d245-6ccd21fc2289"
      },
      "source": [
        "# The ROC Curve Plotting\n",
        "import matplotlib.pyplot as plt\n",
        "plt.title('ROC Curve')\n",
        "plt.ylabel('True Positive Rate')\n",
        "plt.xlabel('False Positive Rate')\n",
        "plt.rc('grid', linestyle=\"--\", color='grey')\n",
        "plt.grid()\n",
        "plt.plot([0, 1], [0, 1],'r--', linewidth=0.75)\n",
        "plt.plot(fpr_KNN, tpr_KNN, color='#FF69B4', linewidth=0.75, label = 'KNN AUC = %0.3f' % roc_auc_KNN)\n",
        "plt.plot(fpr_KNN_pca, tpr_KNN_pca, color='#E6DC32', linewidth=0.75, label = 'KNN PCA AUC = %0.3f' % roc_auc_KNN_pca)\n",
        "plt.legend(loc = 'lower right')\n",
        "plt.show()"
      ],
      "execution_count": 138,
      "outputs": [
        {
          "output_type": "display_data",
          "data": {
            "image/png": "[encoded data removed]",
            "text/plain": [
              "<Figure size 432x288 with 1 Axes>"
            ]
          },
          "metadata": {
            "tags": []
          }
        }
      ]
    },
    {
      "cell_type": "code",
      "metadata": {
        "id": "5j247HrW8dIQ",
        "colab_type": "code",
        "colab": {
          "base_uri": "https://localhost:8080/",
          "height": 68
        },
        "outputId": "9d25a85c-556d-440b-92ce-d3e2c8ab5857"
      },
      "source": [
        "# Training, and prediction on Test dataset. Confusion matrix\n",
        "neigh.fit(X_train, y_train) \n",
        "pred_KNN=neigh.predict(X_test)\n",
        "from sklearn.metrics import confusion_matrix\n",
        "print('Matriz de confusión')\n",
        "confusion_matrix(y_test, pred_KNN)"
      ],
      "execution_count": 43,
      "outputs": [
        {
          "output_type": "stream",
          "text": [
            "Matriz de confusión\n"
          ],
          "name": "stdout"
        },
        {
          "output_type": "execute_result",
          "data": {
            "text/plain": [
              "array([[  9,  42],\n",
              "       [ 13, 121]])"
            ]
          },
          "metadata": {
            "tags": []
          },
          "execution_count": 43
        }
      ]
    },
    {
      "cell_type": "code",
      "metadata": {
        "id": "L_OW-jTR8dIS",
        "colab_type": "code",
        "colab": {
          "base_uri": "https://localhost:8080/",
          "height": 187
        },
        "outputId": "5db9a1e6-58ca-4a02-9663-72544d8f3bea"
      },
      "source": [
        "# Other additional metrics on Test dataset predictions\n",
        "from sklearn.metrics import classification_report\n",
        "print('Indicadores')\n",
        "print(classification_report(y_test, pred_KNN))"
      ],
      "execution_count": 44,
      "outputs": [
        {
          "output_type": "stream",
          "text": [
            "Indicadores \n",
            "              precision    recall  f1-score   support\n",
            "\n",
            "           N       0.41      0.18      0.25        51\n",
            "           Y       0.74      0.90      0.81       134\n",
            "\n",
            "    accuracy                           0.70       185\n",
            "   macro avg       0.58      0.54      0.53       185\n",
            "weighted avg       0.65      0.70      0.66       185\n",
            "\n"
          ],
          "name": "stdout"
        }
      ]
    },
    {
      "cell_type": "code",
      "metadata": {
        "id": "ukTz7XpW8dIU",
        "colab_type": "code",
        "colab": {}
      },
      "source": [
        "#######################################################################\n",
        "##### Modelo de Clasificación : SVM ##################################\n",
        "#######################################################################"
      ],
      "execution_count": 0,
      "outputs": []
    },
    {
      "cell_type": "code",
      "metadata": {
        "id": "4VdOf9h88dIX",
        "colab_type": "code",
        "colab": {}
      },
      "source": [
        "# SVMs are sensitive to the features scales\n",
        "# Vamos a estandarizar nuestras variables predictoras tanto para train y test\n",
        "from sklearn.preprocessing import StandardScaler\n",
        "sc = StandardScaler()  # creamos el objeto para estandarizar nuestros datos\n",
        "X_train_array = sc.fit_transform(X_train.values)  # estandarizando nuestros datos TRAIN\n",
        "X_train_sc = pd.DataFrame(X_train_array, index=X_train.index, columns=X_train.columns)  # reemplazamos dichos datos en X_train\n",
        "X_test_array = sc.fit_transform(X_test.values)  # estandarizando nuestros datos TEST\n",
        "X_test_sc = pd.DataFrame(X_test_array, index=X_test.index, columns=X_test.columns)  # reemplazamos dichos datos en X_test"
      ],
      "execution_count": 0,
      "outputs": []
    },
    {
      "cell_type": "code",
      "metadata": {
        "id": "0zuqH6-y8dIZ",
        "colab_type": "code",
        "colab": {
          "base_uri": "https://localhost:8080/",
          "height": 204
        },
        "outputId": "ad0364f0-4cce-41a3-d5c6-a3327c19fa82"
      },
      "source": [
        "X_train_sc.head()"
      ],
      "execution_count": 49,
      "outputs": [
        {
          "output_type": "execute_result",
          "data": {
            "text/html": [
              "<div>\n",
              "<style scoped>\n",
              "    .dataframe tbody tr th:only-of-type {\n",
              "        vertical-align: middle;\n",
              "    }\n",
              "\n",
              "    .dataframe tbody tr th {\n",
              "        vertical-align: top;\n",
              "    }\n",
              "\n",
              "    .dataframe thead th {\n",
              "        text-align: right;\n",
              "    }\n",
              "</style>\n",
              "<table border=\"1\" class=\"dataframe\">\n",
              "  <thead>\n",
              "    <tr style=\"text-align: right;\">\n",
              "      <th></th>\n",
              "      <th>Gender</th>\n",
              "      <th>Married</th>\n",
              "      <th>Dependents</th>\n",
              "      <th>Education</th>\n",
              "      <th>Self_Employed</th>\n",
              "      <th>ApplicantIncome</th>\n",
              "      <th>CoapplicantIncome</th>\n",
              "      <th>LoanAmount</th>\n",
              "      <th>Loan_Amount_Term</th>\n",
              "      <th>Credit_History</th>\n",
              "      <th>Property_Area</th>\n",
              "    </tr>\n",
              "  </thead>\n",
              "  <tbody>\n",
              "    <tr>\n",
              "      <th>508</th>\n",
              "      <td>0.471405</td>\n",
              "      <td>0.729481</td>\n",
              "      <td>-0.738441</td>\n",
              "      <td>-0.500728</td>\n",
              "      <td>2.432972</td>\n",
              "      <td>-0.464916</td>\n",
              "      <td>0.371483</td>\n",
              "      <td>0.489061</td>\n",
              "      <td>0.291715</td>\n",
              "      <td>0.437798</td>\n",
              "      <td>1.228139</td>\n",
              "    </tr>\n",
              "    <tr>\n",
              "      <th>327</th>\n",
              "      <td>0.471405</td>\n",
              "      <td>0.729481</td>\n",
              "      <td>-0.738441</td>\n",
              "      <td>-0.500728</td>\n",
              "      <td>2.432972</td>\n",
              "      <td>0.078349</td>\n",
              "      <td>0.113827</td>\n",
              "      <td>0.443518</td>\n",
              "      <td>0.291715</td>\n",
              "      <td>0.437798</td>\n",
              "      <td>-0.050676</td>\n",
              "    </tr>\n",
              "    <tr>\n",
              "      <th>329</th>\n",
              "      <td>-2.121320</td>\n",
              "      <td>-1.370837</td>\n",
              "      <td>-0.738441</td>\n",
              "      <td>-0.500728</td>\n",
              "      <td>-0.411020</td>\n",
              "      <td>-0.461499</td>\n",
              "      <td>-0.538620</td>\n",
              "      <td>-0.888628</td>\n",
              "      <td>0.291715</td>\n",
              "      <td>0.437798</td>\n",
              "      <td>1.228139</td>\n",
              "    </tr>\n",
              "    <tr>\n",
              "      <th>94</th>\n",
              "      <td>0.471405</td>\n",
              "      <td>-1.370837</td>\n",
              "      <td>-0.738441</td>\n",
              "      <td>1.997091</td>\n",
              "      <td>-0.411020</td>\n",
              "      <td>-0.279272</td>\n",
              "      <td>-0.538620</td>\n",
              "      <td>-1.366834</td>\n",
              "      <td>-3.309601</td>\n",
              "      <td>0.437798</td>\n",
              "      <td>-0.050676</td>\n",
              "    </tr>\n",
              "    <tr>\n",
              "      <th>367</th>\n",
              "      <td>0.471405</td>\n",
              "      <td>-1.370837</td>\n",
              "      <td>-0.738441</td>\n",
              "      <td>-0.500728</td>\n",
              "      <td>-0.411020</td>\n",
              "      <td>-0.034567</td>\n",
              "      <td>-0.538620</td>\n",
              "      <td>-0.239634</td>\n",
              "      <td>0.291715</td>\n",
              "      <td>-2.284161</td>\n",
              "      <td>-1.329491</td>\n",
              "    </tr>\n",
              "  </tbody>\n",
              "</table>\n",
              "</div>"
            ],
            "text/plain": [
              "       Gender   Married  ...  Credit_History  Property_Area\n",
              "508  0.471405  0.729481  ...        0.437798       1.228139\n",
              "327  0.471405  0.729481  ...        0.437798      -0.050676\n",
              "329 -2.121320 -1.370837  ...        0.437798       1.228139\n",
              "94   0.471405 -1.370837  ...        0.437798      -0.050676\n",
              "367  0.471405 -1.370837  ...       -2.284161      -1.329491\n",
              "\n",
              "[5 rows x 11 columns]"
            ]
          },
          "metadata": {
            "tags": []
          },
          "execution_count": 49
        }
      ]
    },
    {
      "cell_type": "code",
      "metadata": {
        "id": "XBYrsQPy8dIb",
        "colab_type": "code",
        "colab": {}
      },
      "source": [
        "from sklearn.svm import SVC\n",
        "# Se prueba cambiando el tipo de kernel. - kernels: linear,poly,rbf,sigmoid. - con \"poly\" se usa los grados 'degree'\n",
        "# gamma : float se usa cuando el kernel sea 'rbf', 'poly' and 'sigmoid'. - \"C\" es el parámetro de regularización\n",
        "modelo_svm_l=SVC(kernel='linear',C=100)\n",
        "modelo_svm_p5=SVC(kernel='poly',C=100,degree=5,gamma=1)\n",
        "modelo_svm_r=SVC(kernel='rbf',C=100,gamma=1)\n",
        "modelo_svm_s=SVC(kernel='sigmoid',C=100,gamma=1)"
      ],
      "execution_count": 0,
      "outputs": []
    },
    {
      "cell_type": "code",
      "metadata": {
        "id": "8zZsc5Jh8dId",
        "colab_type": "code",
        "colab": {
          "base_uri": "https://localhost:8080/",
          "height": 34
        },
        "outputId": "1e10f9dc-650c-428b-b3b8-25e0d0f498ef"
      },
      "source": [
        "# Cross Validation, FPR/TPR, AUC y Cálculo de coeficiente GINI, para SVC con Kernel \"Linear\"\n",
        "from sklearn.model_selection import cross_val_predict\n",
        "from sklearn.metrics import roc_curve\n",
        "from sklearn.metrics import auc\n",
        "from sklearn.metrics import roc_auc_score\n",
        "y_scores_svm_l = cross_val_predict(modelo_svm_l, X_train_sc, y_train, cv=3, method=\"decision_function\")\n",
        "fpr_svm_l, tpr_svm_l, thresholds_svm_l = roc_curve(y_train, y_scores_svm_l, pos_label=\"Y\")\n",
        "roc_auc_svm_l = auc(fpr_svm_l, tpr_svm_l)\n",
        "roc_auc_score_svm_l = roc_auc_score(y_train, y_scores_svm_l)\n",
        "gini_coef_svm_l = 2 * roc_auc_score_svm_l - 1\n",
        "roc_auc_svm_l, roc_auc_score_svm_l, gini_coef_svm_l"
      ],
      "execution_count": 52,
      "outputs": [
        {
          "output_type": "execute_result",
          "data": {
            "text/plain": [
              "(0.6998374704491725, 0.6998374704491725, 0.3996749408983451)"
            ]
          },
          "metadata": {
            "tags": []
          },
          "execution_count": 52
        }
      ]
    },
    {
      "cell_type": "code",
      "metadata": {
        "id": "aRthiBax8dIf",
        "colab_type": "code",
        "colab": {
          "base_uri": "https://localhost:8080/",
          "height": 34
        },
        "outputId": "4bad6036-f582-46eb-b562-bc02fc4e1bba"
      },
      "source": [
        "# Cross Validation, FPR/TPR, AUC y Cálculo de coeficiente GINI, para SVC con Kernel \"Polynomial\"\n",
        "from sklearn.model_selection import cross_val_predict\n",
        "from sklearn.metrics import roc_curve\n",
        "from sklearn.metrics import auc\n",
        "from sklearn.metrics import roc_auc_score\n",
        "y_scores_svm_p5 = cross_val_predict(modelo_svm_p5, X_train_sc, y_train, cv=3, method=\"decision_function\")\n",
        "fpr_svm_p5, tpr_svm_p5, thresholds_svm_p5 = roc_curve(y_train, y_scores_svm_p5, pos_label=\"Y\")\n",
        "roc_auc_svm_p5 = auc(fpr_svm_p5, tpr_svm_p5)\n",
        "roc_auc_score_svm_p5 = roc_auc_score(y_train, y_scores_svm_p5)\n",
        "gini_coef_svm_p5 = 2 * roc_auc_score_svm_p5 - 1\n",
        "roc_auc_svm_p5, roc_auc_score_svm_p5, gini_coef_svm_p5"
      ],
      "execution_count": 53,
      "outputs": [
        {
          "output_type": "execute_result",
          "data": {
            "text/plain": [
              "(0.5843429866036249, 0.5843429866036249, 0.16868597320724987)"
            ]
          },
          "metadata": {
            "tags": []
          },
          "execution_count": 53
        }
      ]
    },
    {
      "cell_type": "code",
      "metadata": {
        "id": "IUm8kAIe8dIi",
        "colab_type": "code",
        "colab": {
          "base_uri": "https://localhost:8080/",
          "height": 34
        },
        "outputId": "131bfcfc-1f74-45e2-c2e3-dd2c48e60566"
      },
      "source": [
        "# Cross Validation, FPR/TPR, AUC y Cálculo de coeficiente GINI, para SVC con Kernel \"Gaussian RBF (Radial Basis Function)\"\n",
        "from sklearn.model_selection import cross_val_predict\n",
        "from sklearn.metrics import roc_curve\n",
        "from sklearn.metrics import auc\n",
        "from sklearn.metrics import roc_auc_score\n",
        "y_scores_svm_r = cross_val_predict(modelo_svm_r, X_train_sc, y_train, cv=3, method=\"decision_function\")\n",
        "fpr_svm_r, tpr_svm_r, thresholds_svm_r = roc_curve(y_train, y_scores_svm_r, pos_label=\"Y\")\n",
        "roc_auc_svm_r = auc(fpr_svm_r, tpr_svm_r)\n",
        "roc_auc_score_svm_r = roc_auc_score(y_train, y_scores_svm_r)\n",
        "gini_coef_svm_r = 2 * roc_auc_score_svm_r - 1\n",
        "roc_auc_svm_r, roc_auc_score_svm_r, gini_coef_svm_r"
      ],
      "execution_count": 54,
      "outputs": [
        {
          "output_type": "execute_result",
          "data": {
            "text/plain": [
              "(0.6426073680063042, 0.6426073680063042, 0.2852147360126085)"
            ]
          },
          "metadata": {
            "tags": []
          },
          "execution_count": 54
        }
      ]
    },
    {
      "cell_type": "code",
      "metadata": {
        "id": "bBWl-F__8dIk",
        "colab_type": "code",
        "colab": {
          "base_uri": "https://localhost:8080/",
          "height": 34
        },
        "outputId": "2354b9a7-6ed6-4be5-d9c4-77e3477dfd84"
      },
      "source": [
        "# Cross Validation, FPR/TPR, AUC y Cálculo de coeficiente GINI, para SVC con Kernel \"Sigmoid\"\n",
        "from sklearn.model_selection import cross_val_predict\n",
        "from sklearn.metrics import roc_curve\n",
        "from sklearn.metrics import auc\n",
        "from sklearn.metrics import roc_auc_score\n",
        "y_scores_svm_s = cross_val_predict(modelo_svm_s, X_train_sc, y_train, cv=3, method=\"decision_function\")\n",
        "fpr_svm_s, tpr_svm_s, thresholds_svm_s = roc_curve(y_train, y_scores_svm_s, pos_label=\"Y\")\n",
        "roc_auc_svm_s = auc(fpr_svm_s, tpr_svm_s)\n",
        "roc_auc_score_svm_s = roc_auc_score(y_train, y_scores_svm_s)\n",
        "gini_coef_svm_s = 2 * roc_auc_score_svm_s - 1\n",
        "roc_auc_svm_s, roc_auc_score_svm_s, gini_coef_svm_s"
      ],
      "execution_count": 55,
      "outputs": [
        {
          "output_type": "execute_result",
          "data": {
            "text/plain": [
              "(0.6365001970055162, 0.6365001970055162, 0.2730003940110324)"
            ]
          },
          "metadata": {
            "tags": []
          },
          "execution_count": 55
        }
      ]
    },
    {
      "cell_type": "code",
      "metadata": {
        "id": "TGPIIm-m8dIn",
        "colab_type": "code",
        "colab": {
          "base_uri": "https://localhost:8080/",
          "height": 295
        },
        "outputId": "196f0f99-f342-4ef5-981c-56d66dc33606"
      },
      "source": [
        "# The ROC Curve Plotting\n",
        "import matplotlib.pyplot as plt\n",
        "plt.title('ROC Curve')\n",
        "plt.ylabel('True Positive Rate')\n",
        "plt.xlabel('False Positive Rate')\n",
        "plt.rc('grid', linestyle=\"--\", color='grey')\n",
        "plt.grid()\n",
        "plt.plot([0, 1], [0, 1],'r--', linewidth=0.75)\n",
        "plt.plot(fpr_svm_l, tpr_svm_l, color='#FF69B4', linewidth=0.75, label = 'SVM Kernel:Linear  AUC = %0.3f' % roc_auc_svm_l)\n",
        "plt.plot(fpr_svm_p5, tpr_svm_p5, color='#F08228', linewidth=0.75, label = 'SVM Kernel:Polynomial  AUC = %0.3f' % roc_auc_svm_p5)\n",
        "plt.plot(fpr_svm_r, tpr_svm_r, color='#E6AF2D', linewidth=0.75, label = 'SVM Kernel:Gaussian RBF  AUC = %0.3f' % roc_auc_svm_r)\n",
        "plt.plot(fpr_svm_s, tpr_svm_s, color='#E6DC32', linewidth=0.75, label = 'SVM Kernel:Sigmoid  AUC = %0.3f' % roc_auc_svm_s)\n",
        "plt.legend(loc = 'lower right')\n",
        "plt.show()"
      ],
      "execution_count": 56,
      "outputs": [
        {
          "output_type": "display_data",
          "data": {
            "image/png": "[encoded data removed]",
            "text/plain": [
              "<Figure size 432x288 with 1 Axes>"
            ]
          },
          "metadata": {
            "tags": []
          }
        }
      ]
    },
    {
      "cell_type": "code",
      "metadata": {
        "id": "EiwUoaZk8dIp",
        "colab_type": "code",
        "colab": {
          "base_uri": "https://localhost:8080/",
          "height": 68
        },
        "outputId": "c729ae92-6204-4226-c8be-faa460c6de59"
      },
      "source": [
        "### Linear ###\n",
        "\n",
        "# Training, and prediction on Test dataset. Confusion matrix\n",
        "modelo_svm_l.fit(X_train_sc,y_train)\n",
        "pred_svm_l = modelo_svm_l.predict(X_test_sc)\n",
        "from sklearn.metrics import confusion_matrix\n",
        "print('Matriz de confusión')\n",
        "confusion_matrix(y_test, pred_svm_l)"
      ],
      "execution_count": 57,
      "outputs": [
        {
          "output_type": "stream",
          "text": [
            "Matriz de confusión\n"
          ],
          "name": "stdout"
        },
        {
          "output_type": "execute_result",
          "data": {
            "text/plain": [
              "array([[ 19,  32],\n",
              "       [  1, 133]])"
            ]
          },
          "metadata": {
            "tags": []
          },
          "execution_count": 57
        }
      ]
    },
    {
      "cell_type": "code",
      "metadata": {
        "id": "BHWstMEN8dIr",
        "colab_type": "code",
        "colab": {
          "base_uri": "https://localhost:8080/",
          "height": 187
        },
        "outputId": "514f0e20-9eb4-40b2-81c9-ab9b3005520c"
      },
      "source": [
        "# Other additional metrics on Test dataset predictions\n",
        "from sklearn.metrics import classification_report\n",
        "print('Indicadores ')\n",
        "print(classification_report(y_test, pred_svm_l))"
      ],
      "execution_count": 58,
      "outputs": [
        {
          "output_type": "stream",
          "text": [
            "Indicadores \n",
            "              precision    recall  f1-score   support\n",
            "\n",
            "           N       0.95      0.37      0.54        51\n",
            "           Y       0.81      0.99      0.89       134\n",
            "\n",
            "    accuracy                           0.82       185\n",
            "   macro avg       0.88      0.68      0.71       185\n",
            "weighted avg       0.85      0.82      0.79       185\n",
            "\n"
          ],
          "name": "stdout"
        }
      ]
    },
    {
      "cell_type": "code",
      "metadata": {
        "id": "jWoEvdAaFZ-j",
        "colab_type": "code",
        "colab": {
          "base_uri": "https://localhost:8080/",
          "height": 68
        },
        "outputId": "c4963902-f142-4f62-eaa5-8dceef90230a"
      },
      "source": [
        "### Poly ###\n",
        "\n",
        "# Training, and prediction on Test dataset. Confusion matrix\n",
        "modelo_svm_p5.fit(X_train_sc,y_train)\n",
        "pred_svm_p5 = modelo_svm_p5.predict(X_test_sc)\n",
        "from sklearn.metrics import confusion_matrix\n",
        "print('Matriz de confusión')\n",
        "confusion_matrix(y_test, pred_svm_p5)"
      ],
      "execution_count": 59,
      "outputs": [
        {
          "output_type": "stream",
          "text": [
            "Matriz de confusión\n"
          ],
          "name": "stdout"
        },
        {
          "output_type": "execute_result",
          "data": {
            "text/plain": [
              "array([[26, 25],\n",
              "       [40, 94]])"
            ]
          },
          "metadata": {
            "tags": []
          },
          "execution_count": 59
        }
      ]
    },
    {
      "cell_type": "code",
      "metadata": {
        "id": "YRTc7dipFbom",
        "colab_type": "code",
        "colab": {
          "base_uri": "https://localhost:8080/",
          "height": 187
        },
        "outputId": "16a2e4c7-0bb7-4cf2-c961-290954a44d33"
      },
      "source": [
        "# Other additional metrics on Test dataset predictions\n",
        "from sklearn.metrics import classification_report\n",
        "print('Indicadores ')\n",
        "print(classification_report(y_test, pred_svm_p5))"
      ],
      "execution_count": 60,
      "outputs": [
        {
          "output_type": "stream",
          "text": [
            "Indicadores \n",
            "              precision    recall  f1-score   support\n",
            "\n",
            "           N       0.39      0.51      0.44        51\n",
            "           Y       0.79      0.70      0.74       134\n",
            "\n",
            "    accuracy                           0.65       185\n",
            "   macro avg       0.59      0.61      0.59       185\n",
            "weighted avg       0.68      0.65      0.66       185\n",
            "\n"
          ],
          "name": "stdout"
        }
      ]
    },
    {
      "cell_type": "code",
      "metadata": {
        "id": "VSwpmKIBGYdx",
        "colab_type": "code",
        "colab": {
          "base_uri": "https://localhost:8080/",
          "height": 68
        },
        "outputId": "c79bf68f-fe02-4c2f-c135-1483602ac600"
      },
      "source": [
        "### RBF ###\n",
        "\n",
        "# Training, and prediction on Test dataset. Confusion matrix\n",
        "modelo_svm_r.fit(X_train_sc,y_train)\n",
        "pred_svm_r = modelo_svm_r.predict(X_test_sc)\n",
        "from sklearn.metrics import confusion_matrix\n",
        "print('Matriz de confusión')\n",
        "confusion_matrix(y_test, pred_svm_r)"
      ],
      "execution_count": 61,
      "outputs": [
        {
          "output_type": "stream",
          "text": [
            "Matriz de confusión\n"
          ],
          "name": "stdout"
        },
        {
          "output_type": "execute_result",
          "data": {
            "text/plain": [
              "array([[ 17,  34],\n",
              "       [ 21, 113]])"
            ]
          },
          "metadata": {
            "tags": []
          },
          "execution_count": 61
        }
      ]
    },
    {
      "cell_type": "code",
      "metadata": {
        "id": "AsFCpUPUGZ8d",
        "colab_type": "code",
        "colab": {
          "base_uri": "https://localhost:8080/",
          "height": 187
        },
        "outputId": "c19b4af5-c92d-466a-e460-a3f7e1cd8830"
      },
      "source": [
        "# Other additional metrics on Test dataset predictions\n",
        "from sklearn.metrics import classification_report\n",
        "print('Indicadores ')\n",
        "print(classification_report(y_test, pred_svm_r))"
      ],
      "execution_count": 62,
      "outputs": [
        {
          "output_type": "stream",
          "text": [
            "Indicadores \n",
            "              precision    recall  f1-score   support\n",
            "\n",
            "           N       0.45      0.33      0.38        51\n",
            "           Y       0.77      0.84      0.80       134\n",
            "\n",
            "    accuracy                           0.70       185\n",
            "   macro avg       0.61      0.59      0.59       185\n",
            "weighted avg       0.68      0.70      0.69       185\n",
            "\n"
          ],
          "name": "stdout"
        }
      ]
    },
    {
      "cell_type": "code",
      "metadata": {
        "id": "O2bPhVXAGqXV",
        "colab_type": "code",
        "colab": {
          "base_uri": "https://localhost:8080/",
          "height": 68
        },
        "outputId": "f2a3b400-2265-41e0-976d-487212e69479"
      },
      "source": [
        "### Sigmoid ###\n",
        "\n",
        "# Training, and prediction on Test dataset. Confusion matrix\n",
        "modelo_svm_s.fit(X_train_sc,y_train)\n",
        "pred_svm_s = modelo_svm_s.predict(X_test_sc)\n",
        "from sklearn.metrics import confusion_matrix\n",
        "print('Matriz de confusión')\n",
        "confusion_matrix(y_test, pred_svm_s)"
      ],
      "execution_count": 63,
      "outputs": [
        {
          "output_type": "stream",
          "text": [
            "Matriz de confusión\n"
          ],
          "name": "stdout"
        },
        {
          "output_type": "execute_result",
          "data": {
            "text/plain": [
              "array([[ 22,  29],\n",
              "       [ 26, 108]])"
            ]
          },
          "metadata": {
            "tags": []
          },
          "execution_count": 63
        }
      ]
    },
    {
      "cell_type": "code",
      "metadata": {
        "id": "riNSyqk3Gr8N",
        "colab_type": "code",
        "colab": {
          "base_uri": "https://localhost:8080/",
          "height": 187
        },
        "outputId": "0df6219a-ebec-46e5-e66b-49dcffea92dd"
      },
      "source": [
        "# Other additional metrics on Test dataset predictions\n",
        "from sklearn.metrics import classification_report\n",
        "print('Indicadores ')\n",
        "print(classification_report(y_test, pred_svm_s))"
      ],
      "execution_count": 103,
      "outputs": [
        {
          "output_type": "stream",
          "text": [
            "Indicadores \n",
            "              precision    recall  f1-score   support\n",
            "\n",
            "           N       0.46      0.43      0.44        51\n",
            "           Y       0.79      0.81      0.80       134\n",
            "\n",
            "    accuracy                           0.70       185\n",
            "   macro avg       0.62      0.62      0.62       185\n",
            "weighted avg       0.70      0.70      0.70       185\n",
            "\n"
          ],
          "name": "stdout"
        }
      ]
    }
  ]
}
